{
 "cells": [
  {
   "cell_type": "markdown",
   "metadata": {},
   "source": [
    "# Quato data\n",
    "\n",
    "`csv file` containing filename entries, folders and other metadata\n",
    "\n",
    "We start by loading this file:"
   ]
  },
  {
   "cell_type": "code",
   "execution_count": 1,
   "metadata": {},
   "outputs": [],
   "source": [
    "import pandas as pd\n",
    "import numpy as np\n",
    "import os\n",
    "df = pd.read_csv('data/largeDoseOfTurbiniumForQuato_reduced.csv')"
   ]
  },
  {
   "cell_type": "markdown",
   "metadata": {},
   "source": [
    "### show first few lines"
   ]
  },
  {
   "cell_type": "code",
   "execution_count": 2,
   "metadata": {},
   "outputs": [
    {
     "data": {
      "text/html": [
       "<div>\n",
       "<style scoped>\n",
       "    .dataframe tbody tr th:only-of-type {\n",
       "        vertical-align: middle;\n",
       "    }\n",
       "\n",
       "    .dataframe tbody tr th {\n",
       "        vertical-align: top;\n",
       "    }\n",
       "\n",
       "    .dataframe thead th {\n",
       "        text-align: right;\n",
       "    }\n",
       "</style>\n",
       "<table border=\"1\" class=\"dataframe\">\n",
       "  <thead>\n",
       "    <tr style=\"text-align: right;\">\n",
       "      <th></th>\n",
       "      <th>file</th>\n",
       "      <th>directory</th>\n",
       "      <th>date_logged</th>\n",
       "      <th>log_name</th>\n",
       "      <th>contractor</th>\n",
       "      <th>data_type</th>\n",
       "      <th>log_service</th>\n",
       "      <th>log_activity</th>\n",
       "      <th>log_type</th>\n",
       "      <th>log_job</th>\n",
       "      <th>log_run</th>\n",
       "      <th>log_pass</th>\n",
       "      <th>casing_size_manual</th>\n",
       "      <th>section_size</th>\n",
       "      <th>station_number</th>\n",
       "      <th>station_depth</th>\n",
       "      <th>mfc_correction</th>\n",
       "      <th>interpretation_number</th>\n",
       "      <th>date_stamp</th>\n",
       "    </tr>\n",
       "  </thead>\n",
       "  <tbody>\n",
       "    <tr>\n",
       "      <th>0</th>\n",
       "      <td>CONTENT-MUD_LOG_1.DLIS-112806.TXT</td>\n",
       "      <td>/project/recall/prod/arc/norway_a/files/GRANE/...</td>\n",
       "      <td>2014/08/18</td>\n",
       "      <td>AUTOMATIC</td>\n",
       "      <td>BAKER HUGHES</td>\n",
       "      <td>RAW</td>\n",
       "      <td>NaN</td>\n",
       "      <td>NaN</td>\n",
       "      <td>FINAL</td>\n",
       "      <td>NaN</td>\n",
       "      <td>NaN</td>\n",
       "      <td>NaN</td>\n",
       "      <td>NaN</td>\n",
       "      <td>All sections</td>\n",
       "      <td>NaN</td>\n",
       "      <td>NaN</td>\n",
       "      <td>NaN</td>\n",
       "      <td>NaN</td>\n",
       "      <td>2018/04/03:14:42:19</td>\n",
       "    </tr>\n",
       "    <tr>\n",
       "      <th>1</th>\n",
       "      <td>MUD_LOG_1_INF_1-112807.ASC</td>\n",
       "      <td>/project/recall/prod/arc/norway_a/files/GRANE/...</td>\n",
       "      <td>2014/08/18</td>\n",
       "      <td>AUTOMATIC</td>\n",
       "      <td>BAKER HUGHES</td>\n",
       "      <td>RAW</td>\n",
       "      <td>NaN</td>\n",
       "      <td>NaN</td>\n",
       "      <td>FINAL</td>\n",
       "      <td>NaN</td>\n",
       "      <td>NaN</td>\n",
       "      <td>NaN</td>\n",
       "      <td>NaN</td>\n",
       "      <td>All sections</td>\n",
       "      <td>NaN</td>\n",
       "      <td>NaN</td>\n",
       "      <td>NaN</td>\n",
       "      <td>NaN</td>\n",
       "      <td>2018/04/03:14:43:09</td>\n",
       "    </tr>\n",
       "    <tr>\n",
       "      <th>2</th>\n",
       "      <td>CONTENT-MUD_LOG_1.DLIS-112797.TXT</td>\n",
       "      <td>/project/recall/prod/arc/norway_a/files/GRANE/...</td>\n",
       "      <td>2014/08/17</td>\n",
       "      <td>AUTOMATIC</td>\n",
       "      <td>BAKER HUGHES</td>\n",
       "      <td>RAW</td>\n",
       "      <td>NaN</td>\n",
       "      <td>NaN</td>\n",
       "      <td>FINAL</td>\n",
       "      <td>NaN</td>\n",
       "      <td>NaN</td>\n",
       "      <td>NaN</td>\n",
       "      <td>NaN</td>\n",
       "      <td>All sections</td>\n",
       "      <td>NaN</td>\n",
       "      <td>NaN</td>\n",
       "      <td>NaN</td>\n",
       "      <td>NaN</td>\n",
       "      <td>2018/04/03:14:31:48</td>\n",
       "    </tr>\n",
       "    <tr>\n",
       "      <th>3</th>\n",
       "      <td>MUD_LOG_1_INF_1-112798.ASC</td>\n",
       "      <td>/project/recall/prod/arc/norway_a/files/GRANE/...</td>\n",
       "      <td>2014/08/17</td>\n",
       "      <td>AUTOMATIC</td>\n",
       "      <td>BAKER HUGHES</td>\n",
       "      <td>RAW</td>\n",
       "      <td>NaN</td>\n",
       "      <td>NaN</td>\n",
       "      <td>FINAL</td>\n",
       "      <td>NaN</td>\n",
       "      <td>NaN</td>\n",
       "      <td>NaN</td>\n",
       "      <td>NaN</td>\n",
       "      <td>All sections</td>\n",
       "      <td>NaN</td>\n",
       "      <td>NaN</td>\n",
       "      <td>NaN</td>\n",
       "      <td>NaN</td>\n",
       "      <td>2018/04/03:14:32:29</td>\n",
       "    </tr>\n",
       "    <tr>\n",
       "      <th>4</th>\n",
       "      <td>CONTENT-MUD_LOG_1.DLIS-112715.TXT</td>\n",
       "      <td>/project/recall/prod/arc/norway_a/files/GRANE/...</td>\n",
       "      <td>2014/03/31</td>\n",
       "      <td>AUTOMATIC</td>\n",
       "      <td>BAKER HUGHES</td>\n",
       "      <td>RAW</td>\n",
       "      <td>NaN</td>\n",
       "      <td>NaN</td>\n",
       "      <td>FINAL</td>\n",
       "      <td>NaN</td>\n",
       "      <td>NaN</td>\n",
       "      <td>NaN</td>\n",
       "      <td>NaN</td>\n",
       "      <td>All sections</td>\n",
       "      <td>NaN</td>\n",
       "      <td>NaN</td>\n",
       "      <td>NaN</td>\n",
       "      <td>NaN</td>\n",
       "      <td>2018/04/03:22:39:44</td>\n",
       "    </tr>\n",
       "  </tbody>\n",
       "</table>\n",
       "</div>"
      ],
      "text/plain": [
       "                                file  \\\n",
       "0  CONTENT-MUD_LOG_1.DLIS-112806.TXT   \n",
       "1         MUD_LOG_1_INF_1-112807.ASC   \n",
       "2  CONTENT-MUD_LOG_1.DLIS-112797.TXT   \n",
       "3         MUD_LOG_1_INF_1-112798.ASC   \n",
       "4  CONTENT-MUD_LOG_1.DLIS-112715.TXT   \n",
       "\n",
       "                                           directory date_logged   log_name  \\\n",
       "0  /project/recall/prod/arc/norway_a/files/GRANE/...  2014/08/18  AUTOMATIC   \n",
       "1  /project/recall/prod/arc/norway_a/files/GRANE/...  2014/08/18  AUTOMATIC   \n",
       "2  /project/recall/prod/arc/norway_a/files/GRANE/...  2014/08/17  AUTOMATIC   \n",
       "3  /project/recall/prod/arc/norway_a/files/GRANE/...  2014/08/17  AUTOMATIC   \n",
       "4  /project/recall/prod/arc/norway_a/files/GRANE/...  2014/03/31  AUTOMATIC   \n",
       "\n",
       "     contractor data_type log_service log_activity log_type log_job log_run  \\\n",
       "0  BAKER HUGHES       RAW         NaN          NaN    FINAL     NaN     NaN   \n",
       "1  BAKER HUGHES       RAW         NaN          NaN    FINAL     NaN     NaN   \n",
       "2  BAKER HUGHES       RAW         NaN          NaN    FINAL     NaN     NaN   \n",
       "3  BAKER HUGHES       RAW         NaN          NaN    FINAL     NaN     NaN   \n",
       "4  BAKER HUGHES       RAW         NaN          NaN    FINAL     NaN     NaN   \n",
       "\n",
       "  log_pass  casing_size_manual  section_size station_number station_depth  \\\n",
       "0      NaN                 NaN  All sections            NaN           NaN   \n",
       "1      NaN                 NaN  All sections            NaN           NaN   \n",
       "2      NaN                 NaN  All sections            NaN           NaN   \n",
       "3      NaN                 NaN  All sections            NaN           NaN   \n",
       "4      NaN                 NaN  All sections            NaN           NaN   \n",
       "\n",
       "   mfc_correction  interpretation_number           date_stamp  \n",
       "0             NaN                    NaN  2018/04/03:14:42:19  \n",
       "1             NaN                    NaN  2018/04/03:14:43:09  \n",
       "2             NaN                    NaN  2018/04/03:14:31:48  \n",
       "3             NaN                    NaN  2018/04/03:14:32:29  \n",
       "4             NaN                    NaN  2018/04/03:22:39:44  "
      ]
     },
     "execution_count": 2,
     "metadata": {},
     "output_type": "execute_result"
    }
   ],
   "source": [
    "df.head()"
   ]
  },
  {
   "cell_type": "markdown",
   "metadata": {},
   "source": [
    "### Features\n",
    "\n",
    "file directory\n",
    "\n",
    "### Labels\n",
    "\n",
    "date_logged\tlog_name\tcontractor\tdata_type\tlog_service\tlog_activity\tlog_type\tlog_job\tlog_run\tlog_pass\tcasing_size_manual\tsection_size\tstation_number\tstation_depth\tmfc_correction\tinterpretation_number\tdate_stamp"
   ]
  },
  {
   "cell_type": "markdown",
   "metadata": {},
   "source": [
    "### Clean and rename columns for clarity sake"
   ]
  },
  {
   "cell_type": "code",
   "execution_count": 3,
   "metadata": {},
   "outputs": [],
   "source": [
    "COLUMN_MAPPING = {\n",
    "        'directory': 'file_directory',\n",
    "        'file': 'filename',\n",
    "        'contractor': 'company',\n",
    "        'log_service': 'service',\n",
    "        'log_activity': 'activity',\n",
    "    }\n",
    "df.columns = [col.strip() for col in df.columns]\n",
    " # column names have lots of surrounding whitepaces\n",
    "df.columns = [col.strip() for col in df.columns]\n",
    "\n",
    "# Ensure every string is stripped of random whitepaces.\n",
    "df = df.applymap(lambda val: val.strip() if hasattr(val, 'strip') else val)\n",
    "\n",
    "# Rename columns\n",
    "df = df.rename(columns=COLUMN_MAPPING)\n",
    "\n",
    "# Fill remaining NaNs with empty target\n",
    "df = df.fillna(value='')"
   ]
  },
  {
   "cell_type": "code",
   "execution_count": 4,
   "metadata": {},
   "outputs": [
    {
     "data": {
      "text/html": [
       "<div>\n",
       "<style scoped>\n",
       "    .dataframe tbody tr th:only-of-type {\n",
       "        vertical-align: middle;\n",
       "    }\n",
       "\n",
       "    .dataframe tbody tr th {\n",
       "        vertical-align: top;\n",
       "    }\n",
       "\n",
       "    .dataframe thead th {\n",
       "        text-align: right;\n",
       "    }\n",
       "</style>\n",
       "<table border=\"1\" class=\"dataframe\">\n",
       "  <thead>\n",
       "    <tr style=\"text-align: right;\">\n",
       "      <th></th>\n",
       "      <th>filename</th>\n",
       "      <th>file_directory</th>\n",
       "      <th>date_logged</th>\n",
       "      <th>log_name</th>\n",
       "      <th>company</th>\n",
       "      <th>data_type</th>\n",
       "      <th>service</th>\n",
       "      <th>activity</th>\n",
       "      <th>log_type</th>\n",
       "      <th>log_job</th>\n",
       "      <th>log_run</th>\n",
       "      <th>log_pass</th>\n",
       "      <th>casing_size_manual</th>\n",
       "      <th>section_size</th>\n",
       "      <th>station_number</th>\n",
       "      <th>station_depth</th>\n",
       "      <th>mfc_correction</th>\n",
       "      <th>interpretation_number</th>\n",
       "      <th>date_stamp</th>\n",
       "    </tr>\n",
       "  </thead>\n",
       "  <tbody>\n",
       "    <tr>\n",
       "      <th>0</th>\n",
       "      <td>CONTENT-MUD_LOG_1.DLIS-112806.TXT</td>\n",
       "      <td>/project/recall/prod/arc/norway_a/files/GRANE/...</td>\n",
       "      <td>2014/08/18</td>\n",
       "      <td>AUTOMATIC</td>\n",
       "      <td>BAKER HUGHES</td>\n",
       "      <td>RAW</td>\n",
       "      <td></td>\n",
       "      <td></td>\n",
       "      <td>FINAL</td>\n",
       "      <td></td>\n",
       "      <td></td>\n",
       "      <td></td>\n",
       "      <td></td>\n",
       "      <td>All sections</td>\n",
       "      <td></td>\n",
       "      <td></td>\n",
       "      <td></td>\n",
       "      <td></td>\n",
       "      <td>2018/04/03:14:42:19</td>\n",
       "    </tr>\n",
       "    <tr>\n",
       "      <th>1</th>\n",
       "      <td>MUD_LOG_1_INF_1-112807.ASC</td>\n",
       "      <td>/project/recall/prod/arc/norway_a/files/GRANE/...</td>\n",
       "      <td>2014/08/18</td>\n",
       "      <td>AUTOMATIC</td>\n",
       "      <td>BAKER HUGHES</td>\n",
       "      <td>RAW</td>\n",
       "      <td></td>\n",
       "      <td></td>\n",
       "      <td>FINAL</td>\n",
       "      <td></td>\n",
       "      <td></td>\n",
       "      <td></td>\n",
       "      <td></td>\n",
       "      <td>All sections</td>\n",
       "      <td></td>\n",
       "      <td></td>\n",
       "      <td></td>\n",
       "      <td></td>\n",
       "      <td>2018/04/03:14:43:09</td>\n",
       "    </tr>\n",
       "    <tr>\n",
       "      <th>2</th>\n",
       "      <td>CONTENT-MUD_LOG_1.DLIS-112797.TXT</td>\n",
       "      <td>/project/recall/prod/arc/norway_a/files/GRANE/...</td>\n",
       "      <td>2014/08/17</td>\n",
       "      <td>AUTOMATIC</td>\n",
       "      <td>BAKER HUGHES</td>\n",
       "      <td>RAW</td>\n",
       "      <td></td>\n",
       "      <td></td>\n",
       "      <td>FINAL</td>\n",
       "      <td></td>\n",
       "      <td></td>\n",
       "      <td></td>\n",
       "      <td></td>\n",
       "      <td>All sections</td>\n",
       "      <td></td>\n",
       "      <td></td>\n",
       "      <td></td>\n",
       "      <td></td>\n",
       "      <td>2018/04/03:14:31:48</td>\n",
       "    </tr>\n",
       "    <tr>\n",
       "      <th>3</th>\n",
       "      <td>MUD_LOG_1_INF_1-112798.ASC</td>\n",
       "      <td>/project/recall/prod/arc/norway_a/files/GRANE/...</td>\n",
       "      <td>2014/08/17</td>\n",
       "      <td>AUTOMATIC</td>\n",
       "      <td>BAKER HUGHES</td>\n",
       "      <td>RAW</td>\n",
       "      <td></td>\n",
       "      <td></td>\n",
       "      <td>FINAL</td>\n",
       "      <td></td>\n",
       "      <td></td>\n",
       "      <td></td>\n",
       "      <td></td>\n",
       "      <td>All sections</td>\n",
       "      <td></td>\n",
       "      <td></td>\n",
       "      <td></td>\n",
       "      <td></td>\n",
       "      <td>2018/04/03:14:32:29</td>\n",
       "    </tr>\n",
       "    <tr>\n",
       "      <th>4</th>\n",
       "      <td>CONTENT-MUD_LOG_1.DLIS-112715.TXT</td>\n",
       "      <td>/project/recall/prod/arc/norway_a/files/GRANE/...</td>\n",
       "      <td>2014/03/31</td>\n",
       "      <td>AUTOMATIC</td>\n",
       "      <td>BAKER HUGHES</td>\n",
       "      <td>RAW</td>\n",
       "      <td></td>\n",
       "      <td></td>\n",
       "      <td>FINAL</td>\n",
       "      <td></td>\n",
       "      <td></td>\n",
       "      <td></td>\n",
       "      <td></td>\n",
       "      <td>All sections</td>\n",
       "      <td></td>\n",
       "      <td></td>\n",
       "      <td></td>\n",
       "      <td></td>\n",
       "      <td>2018/04/03:22:39:44</td>\n",
       "    </tr>\n",
       "  </tbody>\n",
       "</table>\n",
       "</div>"
      ],
      "text/plain": [
       "                            filename  \\\n",
       "0  CONTENT-MUD_LOG_1.DLIS-112806.TXT   \n",
       "1         MUD_LOG_1_INF_1-112807.ASC   \n",
       "2  CONTENT-MUD_LOG_1.DLIS-112797.TXT   \n",
       "3         MUD_LOG_1_INF_1-112798.ASC   \n",
       "4  CONTENT-MUD_LOG_1.DLIS-112715.TXT   \n",
       "\n",
       "                                      file_directory date_logged   log_name  \\\n",
       "0  /project/recall/prod/arc/norway_a/files/GRANE/...  2014/08/18  AUTOMATIC   \n",
       "1  /project/recall/prod/arc/norway_a/files/GRANE/...  2014/08/18  AUTOMATIC   \n",
       "2  /project/recall/prod/arc/norway_a/files/GRANE/...  2014/08/17  AUTOMATIC   \n",
       "3  /project/recall/prod/arc/norway_a/files/GRANE/...  2014/08/17  AUTOMATIC   \n",
       "4  /project/recall/prod/arc/norway_a/files/GRANE/...  2014/03/31  AUTOMATIC   \n",
       "\n",
       "        company data_type service activity log_type log_job log_run log_pass  \\\n",
       "0  BAKER HUGHES       RAW                     FINAL                            \n",
       "1  BAKER HUGHES       RAW                     FINAL                            \n",
       "2  BAKER HUGHES       RAW                     FINAL                            \n",
       "3  BAKER HUGHES       RAW                     FINAL                            \n",
       "4  BAKER HUGHES       RAW                     FINAL                            \n",
       "\n",
       "  casing_size_manual  section_size station_number station_depth  \\\n",
       "0                     All sections                                \n",
       "1                     All sections                                \n",
       "2                     All sections                                \n",
       "3                     All sections                                \n",
       "4                     All sections                                \n",
       "\n",
       "  mfc_correction interpretation_number           date_stamp  \n",
       "0                                       2018/04/03:14:42:19  \n",
       "1                                       2018/04/03:14:43:09  \n",
       "2                                       2018/04/03:14:31:48  \n",
       "3                                       2018/04/03:14:32:29  \n",
       "4                                       2018/04/03:22:39:44  "
      ]
     },
     "execution_count": 4,
     "metadata": {},
     "output_type": "execute_result"
    }
   ],
   "source": [
    "df.head()"
   ]
  },
  {
   "cell_type": "markdown",
   "metadata": {},
   "source": [
    "### Test and train data split"
   ]
  },
  {
   "cell_type": "code",
   "execution_count": 5,
   "metadata": {},
   "outputs": [],
   "source": [
    "from sklearn.model_selection import train_test_split\n",
    "\n",
    "train, test = train_test_split(df, test_size=0.2)"
   ]
  },
  {
   "cell_type": "markdown",
   "metadata": {},
   "source": [
    "### Join filename and filedirectory into a single string"
   ]
  },
  {
   "cell_type": "code",
   "execution_count": 6,
   "metadata": {},
   "outputs": [],
   "source": [
    "#a new dataframe with just the feature data\n",
    "X_train = pd.DataFrame()\n",
    "X_test = pd.DataFrame()\n",
    "X_train['filename'] = train.apply(lambda line: os.path.join(line['file_directory'], line['filename']), axis=1)\n",
    "X_test['filename'] = test.apply(lambda line: os.path.join(line['file_directory'], line['filename']), axis=1)"
   ]
  },
  {
   "cell_type": "markdown",
   "metadata": {},
   "source": [
    "### Get company as label"
   ]
  },
  {
   "cell_type": "code",
   "execution_count": 7,
   "metadata": {},
   "outputs": [],
   "source": [
    "labels = ['company', 'data_type']\n",
    "y_train =train[labels].astype(str)\n",
    "y_test = test[labels].astype(str)"
   ]
  },
  {
   "cell_type": "code",
   "execution_count": 8,
   "metadata": {},
   "outputs": [
    {
     "name": "stdout",
     "output_type": "stream",
     "text": [
      "                                                filename\n",
      "11083  /project/recall/prod/arc/norway_a/films/GULLFA...\n",
      "10699  /project/recall/prod/arc/norway_a/tapes/GULLFA...\n",
      "490    /project/recall/prod/arc/norway_a/films/GRANE/...\n",
      "13027  /project/recall/prod/arc/norway_a/films/STATFJ...\n",
      "11183  /project/recall/prod/arc/norway_a/tapes/GULLFA...             company data_type\n",
      "11083  SCHLUMBERGER       RAW\n",
      "10699  SCHLUMBERGER       RAW\n",
      "490    BAKER HUGHES       RAW\n",
      "13027   GEOSERVICES       RAW\n",
      "11183  SCHLUMBERGER       RAW\n"
     ]
    }
   ],
   "source": [
    "print(X_train.head(), y_train.head())"
   ]
  },
  {
   "cell_type": "markdown",
   "metadata": {},
   "source": [
    "### Process filename inputs (for both train and test data)"
   ]
  },
  {
   "cell_type": "code",
   "execution_count": 9,
   "metadata": {},
   "outputs": [],
   "source": [
    "#split filename into independent chunks\n",
    "def file_path_formatter(string):\n",
    "        string = string.replace('_', ' ').replace('-', ' ').replace('.', ' ').replace(',', ' ').replace('/', ' ')\n",
    "        return string"
   ]
  },
  {
   "cell_type": "markdown",
   "metadata": {},
   "source": [
    "### Extract features using CountVectorizer"
   ]
  },
  {
   "cell_type": "code",
   "execution_count": 10,
   "metadata": {},
   "outputs": [],
   "source": [
    "from sklearn.feature_extraction.text import CountVectorizer\n",
    "from sklearn.feature_extraction.text import TfidfTransformer\n",
    "from sklearn.pipeline import Pipeline\n",
    "steps = [\n",
    "    ('cv',CountVectorizer(ngram_range=(1, 2),\n",
    "                                   preprocessor=file_path_formatter,\n",
    "                                   lowercase=True,\n",
    "                                   analyzer='word')),\n",
    "    ('tfidf', TfidfTransformer())\n",
    "]\n",
    "feature = Pipeline(steps) "
   ]
  },
  {
   "cell_type": "code",
   "execution_count": 11,
   "metadata": {},
   "outputs": [],
   "source": [
    "# creates the document term matrix\n",
    "count_train = feature.fit_transform(X_train['filename'])\n",
    "count_test = feature.transform(X_test['filename'])"
   ]
  },
  {
   "cell_type": "markdown",
   "metadata": {},
   "source": [
    "### Define ML model that currently is RandomForest as it perform the best"
   ]
  },
  {
   "cell_type": "code",
   "execution_count": null,
   "metadata": {},
   "outputs": [],
   "source": [
    "from sklearn.ensemble import RandomForestClassifier\n",
    "from sklearn.multioutput import MultiOutputRegressor, MultiOutputClassifier\n",
    "# Parameters for the model\n",
    "max_depth=None\n",
    "n_estimators=82\n",
    "min_samples_split=10\n",
    "max_features='sqrt'\n",
    "rf_classifier = RandomForestClassifier(max_depth=None, \n",
    "                                       n_jobs=-1,\n",
    "                                       n_estimators=n_estimators,\n",
    "                                       min_samples_split=min_samples_split,\n",
    "                                       max_features=max_features)\n",
    "moc = MultiOutputClassifier(rf_classifier)"
   ]
  },
  {
   "cell_type": "markdown",
   "metadata": {},
   "source": [
    "# Train ...."
   ]
  },
  {
   "cell_type": "code",
   "execution_count": null,
   "metadata": {},
   "outputs": [],
   "source": [
    "print(count_train.shape)\n",
    "moc.fit(count_train, y_train)"
   ]
  },
  {
   "cell_type": "markdown",
   "metadata": {},
   "source": [
    "# Predict on test data"
   ]
  },
  {
   "cell_type": "code",
   "execution_count": null,
   "metadata": {},
   "outputs": [],
   "source": [
    "pred = moc.predict(count_test)\n",
    "preda = moc.predict_proba(count_test)"
   ]
  },
  {
   "cell_type": "markdown",
   "metadata": {},
   "source": [
    "# Show some results"
   ]
  },
  {
   "cell_type": "code",
   "execution_count": null,
   "metadata": {},
   "outputs": [],
   "source": [
    "for i, lbl in enumerate(moc.estimators_):\n",
    "    print(lbl.classes_)"
   ]
  },
  {
   "cell_type": "code",
   "execution_count": null,
   "metadata": {},
   "outputs": [],
   "source": [
    " pd.options.display.max_colwidth = 300\n",
    "print(test['filename'][:3])\n",
    "print(y_train['company'].value_counts())"
   ]
  },
  {
   "cell_type": "code",
   "execution_count": null,
   "metadata": {},
   "outputs": [],
   "source": [
    "print(pred[:3])\n",
    "print(preda[0][:3].argmax(axis=1))\n",
    "print(sorted(y_train['company'].unique()))\n",
    "for cn in y_train.columns:\n",
    "    print(cn)"
   ]
  },
  {
   "cell_type": "code",
   "execution_count": null,
   "metadata": {},
   "outputs": [],
   "source": [
    "print(test['company'][:3])"
   ]
  },
  {
   "cell_type": "code",
   "execution_count": null,
   "metadata": {},
   "outputs": [],
   "source": []
  }
 ],
 "metadata": {
  "kernelspec": {
   "display_name": "Python 3",
   "language": "python",
   "name": "python3"
  },
  "language_info": {
   "codemirror_mode": {
    "name": "ipython",
    "version": 3
   },
   "file_extension": ".py",
   "mimetype": "text/x-python",
   "name": "python",
   "nbconvert_exporter": "python",
   "pygments_lexer": "ipython3",
   "version": "3.5.6"
  }
 },
 "nbformat": 4,
 "nbformat_minor": 2
}
