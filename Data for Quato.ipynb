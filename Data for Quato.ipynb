{
 "cells": [
  {
   "cell_type": "markdown",
   "metadata": {},
   "source": [
    "# Quato data\n",
    "\n",
    "`csv file` containing filename entries, folders and other metadata\n",
    "\n",
    "We start by loading this file:"
   ]
  },
  {
   "cell_type": "code",
   "execution_count": 7,
   "metadata": {},
   "outputs": [],
   "source": [
    "import pandas as pd\n",
    "import numpy as np\n",
    "import os\n",
    "df = pd.read_csv('data/largeDoseOfTurbiniumForQuato_reduced.csv')\n",
    "pd.set_option('display.max_colwidth', -1)"
   ]
  },
  {
   "cell_type": "markdown",
   "metadata": {},
   "source": [
    "### show first few lines"
   ]
  },
  {
   "cell_type": "code",
   "execution_count": 8,
   "metadata": {},
   "outputs": [
    {
     "data": {
      "text/html": [
       "<div>\n",
       "<style scoped>\n",
       "    .dataframe tbody tr th:only-of-type {\n",
       "        vertical-align: middle;\n",
       "    }\n",
       "\n",
       "    .dataframe tbody tr th {\n",
       "        vertical-align: top;\n",
       "    }\n",
       "\n",
       "    .dataframe thead th {\n",
       "        text-align: right;\n",
       "    }\n",
       "</style>\n",
       "<table border=\"1\" class=\"dataframe\">\n",
       "  <thead>\n",
       "    <tr style=\"text-align: right;\">\n",
       "      <th></th>\n",
       "      <th>file</th>\n",
       "      <th>directory</th>\n",
       "      <th>date_logged</th>\n",
       "      <th>log_name</th>\n",
       "      <th>contractor</th>\n",
       "      <th>data_type</th>\n",
       "      <th>log_service</th>\n",
       "      <th>log_activity</th>\n",
       "      <th>log_type</th>\n",
       "      <th>log_job</th>\n",
       "      <th>log_run</th>\n",
       "      <th>log_pass</th>\n",
       "      <th>casing_size_manual</th>\n",
       "      <th>section_size</th>\n",
       "      <th>station_number</th>\n",
       "      <th>station_depth</th>\n",
       "      <th>mfc_correction</th>\n",
       "      <th>interpretation_number</th>\n",
       "      <th>date_stamp</th>\n",
       "    </tr>\n",
       "  </thead>\n",
       "  <tbody>\n",
       "    <tr>\n",
       "      <th>0</th>\n",
       "      <td>CONTENT-MUD_LOG_1.DLIS-112806.TXT</td>\n",
       "      <td>/project/recall/prod/arc/norway_a/files/GRANE/NO_25_11_G_19_EY2T2</td>\n",
       "      <td>2014/08/18</td>\n",
       "      <td>AUTOMATIC</td>\n",
       "      <td>BAKER HUGHES</td>\n",
       "      <td>RAW</td>\n",
       "      <td>NaN</td>\n",
       "      <td>NaN</td>\n",
       "      <td>FINAL</td>\n",
       "      <td>NaN</td>\n",
       "      <td>NaN</td>\n",
       "      <td>NaN</td>\n",
       "      <td>NaN</td>\n",
       "      <td>All sections</td>\n",
       "      <td>NaN</td>\n",
       "      <td>NaN</td>\n",
       "      <td>NaN</td>\n",
       "      <td>NaN</td>\n",
       "      <td>2018/04/03:14:42:19</td>\n",
       "    </tr>\n",
       "    <tr>\n",
       "      <th>1</th>\n",
       "      <td>MUD_LOG_1_INF_1-112807.ASC</td>\n",
       "      <td>/project/recall/prod/arc/norway_a/files/GRANE/NO_25_11_G_19_EY2T2</td>\n",
       "      <td>2014/08/18</td>\n",
       "      <td>AUTOMATIC</td>\n",
       "      <td>BAKER HUGHES</td>\n",
       "      <td>RAW</td>\n",
       "      <td>NaN</td>\n",
       "      <td>NaN</td>\n",
       "      <td>FINAL</td>\n",
       "      <td>NaN</td>\n",
       "      <td>NaN</td>\n",
       "      <td>NaN</td>\n",
       "      <td>NaN</td>\n",
       "      <td>All sections</td>\n",
       "      <td>NaN</td>\n",
       "      <td>NaN</td>\n",
       "      <td>NaN</td>\n",
       "      <td>NaN</td>\n",
       "      <td>2018/04/03:14:43:09</td>\n",
       "    </tr>\n",
       "    <tr>\n",
       "      <th>2</th>\n",
       "      <td>CONTENT-MUD_LOG_1.DLIS-112797.TXT</td>\n",
       "      <td>/project/recall/prod/arc/norway_a/files/GRANE/NO_25_11_G_19_EY2</td>\n",
       "      <td>2014/08/17</td>\n",
       "      <td>AUTOMATIC</td>\n",
       "      <td>BAKER HUGHES</td>\n",
       "      <td>RAW</td>\n",
       "      <td>NaN</td>\n",
       "      <td>NaN</td>\n",
       "      <td>FINAL</td>\n",
       "      <td>NaN</td>\n",
       "      <td>NaN</td>\n",
       "      <td>NaN</td>\n",
       "      <td>NaN</td>\n",
       "      <td>All sections</td>\n",
       "      <td>NaN</td>\n",
       "      <td>NaN</td>\n",
       "      <td>NaN</td>\n",
       "      <td>NaN</td>\n",
       "      <td>2018/04/03:14:31:48</td>\n",
       "    </tr>\n",
       "    <tr>\n",
       "      <th>3</th>\n",
       "      <td>MUD_LOG_1_INF_1-112798.ASC</td>\n",
       "      <td>/project/recall/prod/arc/norway_a/files/GRANE/NO_25_11_G_19_EY2</td>\n",
       "      <td>2014/08/17</td>\n",
       "      <td>AUTOMATIC</td>\n",
       "      <td>BAKER HUGHES</td>\n",
       "      <td>RAW</td>\n",
       "      <td>NaN</td>\n",
       "      <td>NaN</td>\n",
       "      <td>FINAL</td>\n",
       "      <td>NaN</td>\n",
       "      <td>NaN</td>\n",
       "      <td>NaN</td>\n",
       "      <td>NaN</td>\n",
       "      <td>All sections</td>\n",
       "      <td>NaN</td>\n",
       "      <td>NaN</td>\n",
       "      <td>NaN</td>\n",
       "      <td>NaN</td>\n",
       "      <td>2018/04/03:14:32:29</td>\n",
       "    </tr>\n",
       "    <tr>\n",
       "      <th>4</th>\n",
       "      <td>CONTENT-MUD_LOG_1.DLIS-112715.TXT</td>\n",
       "      <td>/project/recall/prod/arc/norway_a/files/GRANE/NO_25_11_G_19_A</td>\n",
       "      <td>2014/03/31</td>\n",
       "      <td>AUTOMATIC</td>\n",
       "      <td>BAKER HUGHES</td>\n",
       "      <td>RAW</td>\n",
       "      <td>NaN</td>\n",
       "      <td>NaN</td>\n",
       "      <td>FINAL</td>\n",
       "      <td>NaN</td>\n",
       "      <td>NaN</td>\n",
       "      <td>NaN</td>\n",
       "      <td>NaN</td>\n",
       "      <td>All sections</td>\n",
       "      <td>NaN</td>\n",
       "      <td>NaN</td>\n",
       "      <td>NaN</td>\n",
       "      <td>NaN</td>\n",
       "      <td>2018/04/03:22:39:44</td>\n",
       "    </tr>\n",
       "  </tbody>\n",
       "</table>\n",
       "</div>"
      ],
      "text/plain": [
       "                                file  \\\n",
       "0  CONTENT-MUD_LOG_1.DLIS-112806.TXT   \n",
       "1  MUD_LOG_1_INF_1-112807.ASC          \n",
       "2  CONTENT-MUD_LOG_1.DLIS-112797.TXT   \n",
       "3  MUD_LOG_1_INF_1-112798.ASC          \n",
       "4  CONTENT-MUD_LOG_1.DLIS-112715.TXT   \n",
       "\n",
       "                                                           directory  \\\n",
       "0  /project/recall/prod/arc/norway_a/files/GRANE/NO_25_11_G_19_EY2T2   \n",
       "1  /project/recall/prod/arc/norway_a/files/GRANE/NO_25_11_G_19_EY2T2   \n",
       "2  /project/recall/prod/arc/norway_a/files/GRANE/NO_25_11_G_19_EY2     \n",
       "3  /project/recall/prod/arc/norway_a/files/GRANE/NO_25_11_G_19_EY2     \n",
       "4  /project/recall/prod/arc/norway_a/files/GRANE/NO_25_11_G_19_A       \n",
       "\n",
       "  date_logged   log_name    contractor data_type log_service log_activity  \\\n",
       "0  2014/08/18  AUTOMATIC  BAKER HUGHES  RAW       NaN         NaN           \n",
       "1  2014/08/18  AUTOMATIC  BAKER HUGHES  RAW       NaN         NaN           \n",
       "2  2014/08/17  AUTOMATIC  BAKER HUGHES  RAW       NaN         NaN           \n",
       "3  2014/08/17  AUTOMATIC  BAKER HUGHES  RAW       NaN         NaN           \n",
       "4  2014/03/31  AUTOMATIC  BAKER HUGHES  RAW       NaN         NaN           \n",
       "\n",
       "  log_type log_job log_run log_pass  casing_size_manual  section_size  \\\n",
       "0  FINAL    NaN     NaN     NaN     NaN                  All sections   \n",
       "1  FINAL    NaN     NaN     NaN     NaN                  All sections   \n",
       "2  FINAL    NaN     NaN     NaN     NaN                  All sections   \n",
       "3  FINAL    NaN     NaN     NaN     NaN                  All sections   \n",
       "4  FINAL    NaN     NaN     NaN     NaN                  All sections   \n",
       "\n",
       "  station_number station_depth  mfc_correction  interpretation_number  \\\n",
       "0  NaN            NaN          NaN             NaN                      \n",
       "1  NaN            NaN          NaN             NaN                      \n",
       "2  NaN            NaN          NaN             NaN                      \n",
       "3  NaN            NaN          NaN             NaN                      \n",
       "4  NaN            NaN          NaN             NaN                      \n",
       "\n",
       "            date_stamp  \n",
       "0  2018/04/03:14:42:19  \n",
       "1  2018/04/03:14:43:09  \n",
       "2  2018/04/03:14:31:48  \n",
       "3  2018/04/03:14:32:29  \n",
       "4  2018/04/03:22:39:44  "
      ]
     },
     "execution_count": 8,
     "metadata": {},
     "output_type": "execute_result"
    }
   ],
   "source": [
    "df.head()"
   ]
  },
  {
   "cell_type": "markdown",
   "metadata": {},
   "source": [
    "### Features\n",
    "\n",
    "file directory\n",
    "\n",
    "### Labels\n",
    "\n",
    "date_logged\tlog_name\tcontractor\tdata_type\tlog_service\tlog_activity\tlog_type\tlog_job\tlog_run\tlog_pass\tcasing_size_manual\tsection_size\tstation_number\tstation_depth\tmfc_correction\tinterpretation_number\tdate_stamp"
   ]
  },
  {
   "cell_type": "markdown",
   "metadata": {},
   "source": [
    "### Clean and rename columns for clarity sake"
   ]
  },
  {
   "cell_type": "code",
   "execution_count": 9,
   "metadata": {},
   "outputs": [],
   "source": [
    "COLUMN_MAPPING = {\n",
    "        'directory': 'file_directory',\n",
    "        'file': 'filename',\n",
    "        'contractor': 'company',\n",
    "        'log_service': 'service',\n",
    "        'log_activity': 'activity',\n",
    "    }\n",
    "df.columns = [col.strip() for col in df.columns]\n",
    " # column names have lots of surrounding whitepaces\n",
    "df.columns = [col.strip() for col in df.columns]\n",
    "\n",
    "# Ensure every string is stripped of random whitepaces.\n",
    "df = df.applymap(lambda val: val.strip() if hasattr(val, 'strip') else val)\n",
    "\n",
    "# Rename columns\n",
    "df = df.rename(columns=COLUMN_MAPPING)\n",
    "\n",
    "# Fill remaining NaNs with empty target\n",
    "df = df.fillna(value='')"
   ]
  },
  {
   "cell_type": "code",
   "execution_count": 10,
   "metadata": {},
   "outputs": [
    {
     "data": {
      "text/html": [
       "<div>\n",
       "<style scoped>\n",
       "    .dataframe tbody tr th:only-of-type {\n",
       "        vertical-align: middle;\n",
       "    }\n",
       "\n",
       "    .dataframe tbody tr th {\n",
       "        vertical-align: top;\n",
       "    }\n",
       "\n",
       "    .dataframe thead th {\n",
       "        text-align: right;\n",
       "    }\n",
       "</style>\n",
       "<table border=\"1\" class=\"dataframe\">\n",
       "  <thead>\n",
       "    <tr style=\"text-align: right;\">\n",
       "      <th></th>\n",
       "      <th>filename</th>\n",
       "      <th>file_directory</th>\n",
       "      <th>date_logged</th>\n",
       "      <th>log_name</th>\n",
       "      <th>company</th>\n",
       "      <th>data_type</th>\n",
       "      <th>service</th>\n",
       "      <th>activity</th>\n",
       "      <th>log_type</th>\n",
       "      <th>log_job</th>\n",
       "      <th>log_run</th>\n",
       "      <th>log_pass</th>\n",
       "      <th>casing_size_manual</th>\n",
       "      <th>section_size</th>\n",
       "      <th>station_number</th>\n",
       "      <th>station_depth</th>\n",
       "      <th>mfc_correction</th>\n",
       "      <th>interpretation_number</th>\n",
       "      <th>date_stamp</th>\n",
       "    </tr>\n",
       "  </thead>\n",
       "  <tbody>\n",
       "    <tr>\n",
       "      <th>0</th>\n",
       "      <td>CONTENT-MUD_LOG_1.DLIS-112806.TXT</td>\n",
       "      <td>/project/recall/prod/arc/norway_a/files/GRANE/NO_25_11_G_19_EY2T2</td>\n",
       "      <td>2014/08/18</td>\n",
       "      <td>AUTOMATIC</td>\n",
       "      <td>BAKER HUGHES</td>\n",
       "      <td>RAW</td>\n",
       "      <td></td>\n",
       "      <td></td>\n",
       "      <td>FINAL</td>\n",
       "      <td></td>\n",
       "      <td></td>\n",
       "      <td></td>\n",
       "      <td></td>\n",
       "      <td>All sections</td>\n",
       "      <td></td>\n",
       "      <td></td>\n",
       "      <td></td>\n",
       "      <td></td>\n",
       "      <td>2018/04/03:14:42:19</td>\n",
       "    </tr>\n",
       "    <tr>\n",
       "      <th>1</th>\n",
       "      <td>MUD_LOG_1_INF_1-112807.ASC</td>\n",
       "      <td>/project/recall/prod/arc/norway_a/files/GRANE/NO_25_11_G_19_EY2T2</td>\n",
       "      <td>2014/08/18</td>\n",
       "      <td>AUTOMATIC</td>\n",
       "      <td>BAKER HUGHES</td>\n",
       "      <td>RAW</td>\n",
       "      <td></td>\n",
       "      <td></td>\n",
       "      <td>FINAL</td>\n",
       "      <td></td>\n",
       "      <td></td>\n",
       "      <td></td>\n",
       "      <td></td>\n",
       "      <td>All sections</td>\n",
       "      <td></td>\n",
       "      <td></td>\n",
       "      <td></td>\n",
       "      <td></td>\n",
       "      <td>2018/04/03:14:43:09</td>\n",
       "    </tr>\n",
       "    <tr>\n",
       "      <th>2</th>\n",
       "      <td>CONTENT-MUD_LOG_1.DLIS-112797.TXT</td>\n",
       "      <td>/project/recall/prod/arc/norway_a/files/GRANE/NO_25_11_G_19_EY2</td>\n",
       "      <td>2014/08/17</td>\n",
       "      <td>AUTOMATIC</td>\n",
       "      <td>BAKER HUGHES</td>\n",
       "      <td>RAW</td>\n",
       "      <td></td>\n",
       "      <td></td>\n",
       "      <td>FINAL</td>\n",
       "      <td></td>\n",
       "      <td></td>\n",
       "      <td></td>\n",
       "      <td></td>\n",
       "      <td>All sections</td>\n",
       "      <td></td>\n",
       "      <td></td>\n",
       "      <td></td>\n",
       "      <td></td>\n",
       "      <td>2018/04/03:14:31:48</td>\n",
       "    </tr>\n",
       "    <tr>\n",
       "      <th>3</th>\n",
       "      <td>MUD_LOG_1_INF_1-112798.ASC</td>\n",
       "      <td>/project/recall/prod/arc/norway_a/files/GRANE/NO_25_11_G_19_EY2</td>\n",
       "      <td>2014/08/17</td>\n",
       "      <td>AUTOMATIC</td>\n",
       "      <td>BAKER HUGHES</td>\n",
       "      <td>RAW</td>\n",
       "      <td></td>\n",
       "      <td></td>\n",
       "      <td>FINAL</td>\n",
       "      <td></td>\n",
       "      <td></td>\n",
       "      <td></td>\n",
       "      <td></td>\n",
       "      <td>All sections</td>\n",
       "      <td></td>\n",
       "      <td></td>\n",
       "      <td></td>\n",
       "      <td></td>\n",
       "      <td>2018/04/03:14:32:29</td>\n",
       "    </tr>\n",
       "    <tr>\n",
       "      <th>4</th>\n",
       "      <td>CONTENT-MUD_LOG_1.DLIS-112715.TXT</td>\n",
       "      <td>/project/recall/prod/arc/norway_a/files/GRANE/NO_25_11_G_19_A</td>\n",
       "      <td>2014/03/31</td>\n",
       "      <td>AUTOMATIC</td>\n",
       "      <td>BAKER HUGHES</td>\n",
       "      <td>RAW</td>\n",
       "      <td></td>\n",
       "      <td></td>\n",
       "      <td>FINAL</td>\n",
       "      <td></td>\n",
       "      <td></td>\n",
       "      <td></td>\n",
       "      <td></td>\n",
       "      <td>All sections</td>\n",
       "      <td></td>\n",
       "      <td></td>\n",
       "      <td></td>\n",
       "      <td></td>\n",
       "      <td>2018/04/03:22:39:44</td>\n",
       "    </tr>\n",
       "  </tbody>\n",
       "</table>\n",
       "</div>"
      ],
      "text/plain": [
       "                            filename  \\\n",
       "0  CONTENT-MUD_LOG_1.DLIS-112806.TXT   \n",
       "1  MUD_LOG_1_INF_1-112807.ASC          \n",
       "2  CONTENT-MUD_LOG_1.DLIS-112797.TXT   \n",
       "3  MUD_LOG_1_INF_1-112798.ASC          \n",
       "4  CONTENT-MUD_LOG_1.DLIS-112715.TXT   \n",
       "\n",
       "                                                      file_directory  \\\n",
       "0  /project/recall/prod/arc/norway_a/files/GRANE/NO_25_11_G_19_EY2T2   \n",
       "1  /project/recall/prod/arc/norway_a/files/GRANE/NO_25_11_G_19_EY2T2   \n",
       "2  /project/recall/prod/arc/norway_a/files/GRANE/NO_25_11_G_19_EY2     \n",
       "3  /project/recall/prod/arc/norway_a/files/GRANE/NO_25_11_G_19_EY2     \n",
       "4  /project/recall/prod/arc/norway_a/files/GRANE/NO_25_11_G_19_A       \n",
       "\n",
       "  date_logged   log_name       company data_type service activity log_type  \\\n",
       "0  2014/08/18  AUTOMATIC  BAKER HUGHES  RAW                        FINAL     \n",
       "1  2014/08/18  AUTOMATIC  BAKER HUGHES  RAW                        FINAL     \n",
       "2  2014/08/17  AUTOMATIC  BAKER HUGHES  RAW                        FINAL     \n",
       "3  2014/08/17  AUTOMATIC  BAKER HUGHES  RAW                        FINAL     \n",
       "4  2014/03/31  AUTOMATIC  BAKER HUGHES  RAW                        FINAL     \n",
       "\n",
       "  log_job log_run log_pass casing_size_manual  section_size station_number  \\\n",
       "0                                              All sections                  \n",
       "1                                              All sections                  \n",
       "2                                              All sections                  \n",
       "3                                              All sections                  \n",
       "4                                              All sections                  \n",
       "\n",
       "  station_depth mfc_correction interpretation_number           date_stamp  \n",
       "0                                                     2018/04/03:14:42:19  \n",
       "1                                                     2018/04/03:14:43:09  \n",
       "2                                                     2018/04/03:14:31:48  \n",
       "3                                                     2018/04/03:14:32:29  \n",
       "4                                                     2018/04/03:22:39:44  "
      ]
     },
     "execution_count": 10,
     "metadata": {},
     "output_type": "execute_result"
    }
   ],
   "source": [
    "df.head()"
   ]
  },
  {
   "cell_type": "markdown",
   "metadata": {},
   "source": [
    "### Test and train data split"
   ]
  },
  {
   "cell_type": "code",
   "execution_count": 11,
   "metadata": {},
   "outputs": [],
   "source": [
    "from sklearn.model_selection import train_test_split\n",
    "\n",
    "train, test = train_test_split(df, test_size=0.2)"
   ]
  },
  {
   "cell_type": "markdown",
   "metadata": {},
   "source": [
    "### Join filename and filedirectory into a single string"
   ]
  },
  {
   "cell_type": "code",
   "execution_count": 12,
   "metadata": {},
   "outputs": [],
   "source": [
    "#a new dataframe with just the feature data\n",
    "X_train = pd.DataFrame()\n",
    "X_test = pd.DataFrame()\n",
    "X_train['filename'] = train.apply(lambda line: os.path.join(line['file_directory'], line['filename']), axis=1)\n",
    "X_test['filename'] = test.apply(lambda line: os.path.join(line['file_directory'], line['filename']), axis=1)"
   ]
  },
  {
   "cell_type": "markdown",
   "metadata": {},
   "source": [
    "### Get company as label"
   ]
  },
  {
   "cell_type": "code",
   "execution_count": 13,
   "metadata": {},
   "outputs": [
    {
     "name": "stdout",
     "output_type": "stream",
     "text": [
      "                                                                                                                              filename\n",
      "7034  /project/recall/prod/arc/norway_a/tapes/STATFJORD/NO_33_12_B_34_A/WL_RAW_BHPR-GR-MECH_TIME_MWD_1-54609.las                      \n",
      "5901  /project/recall/prod/arc/norway_a/films/STATFJORD/NO_33_9_C_38_D/Basic_Channel_Description-54296.pdf                            \n",
      "9738  /project/recall/prod/arc/norway_a/films/GULLFAKS_S_R/NO_34_10_O_2_H/Gullfaks_Sor_34_10-O-2_H_Bit_#2_17.5x20in_303_803m-70588.pdf\n",
      "8948  /project/recall/prod/arc/norway_a/films/GULLFAKS/NO_34_10_A_18_AT2/WL_RAW_BHPR-GR-MECH_TIME_MWD_PLOT_6-80637.Pdf                \n",
      "8255  /project/recall/prod/arc/norway_a/films/GULLFAKS/NO_34_10_C_41_A/WL_RAW_PROD_CAL-FLOW-CAS-GEOM_2015-10-20_PLOT_1-51219.PDF                  company data_type   log_name\n",
      "7034  SCHLUMBERGER  RAW       AUTOMATIC\n",
      "5901  SCHLUMBERGER  RAW       AUTOMATIC\n",
      "9738  GEOSERVICES   RAW       AUTOMATIC\n",
      "8948  SCHLUMBERGER  RAW       AUTOMATIC\n",
      "8255  SCHLUMBERGER  RAW       AUTOMATIC\n"
     ]
    },
    {
     "data": {
      "text/html": [
       "<div>\n",
       "<style scoped>\n",
       "    .dataframe tbody tr th:only-of-type {\n",
       "        vertical-align: middle;\n",
       "    }\n",
       "\n",
       "    .dataframe tbody tr th {\n",
       "        vertical-align: top;\n",
       "    }\n",
       "\n",
       "    .dataframe thead th {\n",
       "        text-align: right;\n",
       "    }\n",
       "</style>\n",
       "<table border=\"1\" class=\"dataframe\">\n",
       "  <thead>\n",
       "    <tr style=\"text-align: right;\">\n",
       "      <th></th>\n",
       "      <th>company</th>\n",
       "      <th>data_type</th>\n",
       "      <th>log_name</th>\n",
       "    </tr>\n",
       "  </thead>\n",
       "  <tbody>\n",
       "    <tr>\n",
       "      <th>7034</th>\n",
       "      <td>SCHLUMBERGER</td>\n",
       "      <td>RAW</td>\n",
       "      <td>AUTOMATIC</td>\n",
       "    </tr>\n",
       "    <tr>\n",
       "      <th>5901</th>\n",
       "      <td>SCHLUMBERGER</td>\n",
       "      <td>RAW</td>\n",
       "      <td>AUTOMATIC</td>\n",
       "    </tr>\n",
       "    <tr>\n",
       "      <th>9738</th>\n",
       "      <td>GEOSERVICES</td>\n",
       "      <td>RAW</td>\n",
       "      <td>AUTOMATIC</td>\n",
       "    </tr>\n",
       "    <tr>\n",
       "      <th>8948</th>\n",
       "      <td>SCHLUMBERGER</td>\n",
       "      <td>RAW</td>\n",
       "      <td>AUTOMATIC</td>\n",
       "    </tr>\n",
       "    <tr>\n",
       "      <th>8255</th>\n",
       "      <td>SCHLUMBERGER</td>\n",
       "      <td>RAW</td>\n",
       "      <td>AUTOMATIC</td>\n",
       "    </tr>\n",
       "  </tbody>\n",
       "</table>\n",
       "</div>"
      ],
      "text/plain": [
       "           company data_type   log_name\n",
       "7034  SCHLUMBERGER  RAW       AUTOMATIC\n",
       "5901  SCHLUMBERGER  RAW       AUTOMATIC\n",
       "9738  GEOSERVICES   RAW       AUTOMATIC\n",
       "8948  SCHLUMBERGER  RAW       AUTOMATIC\n",
       "8255  SCHLUMBERGER  RAW       AUTOMATIC"
      ]
     },
     "execution_count": 13,
     "metadata": {},
     "output_type": "execute_result"
    }
   ],
   "source": [
    "#y_train =train['data_type'].astype(str)\n",
    "#y_test = test['data_type'].astype(str)\n",
    "# y_train =train['company'].astype(str)\n",
    "# y_test = test['company'].astype(str)\n",
    "# y_train = train.drop(labels = ['file_directory','filename'], axis=1)\n",
    "# y_test = train.drop(labels = ['file_directory','filename'], axis=1)\n",
    "labels = ['company','data_type','log_name']\n",
    "y_train = train.loc[:, labels]\n",
    "y_test = test.loc[:, labels]\n",
    "y_train = y_train.astype(str)\n",
    "y_test = y_test.astype(str)\n",
    "print(X_train.head(), y_train.head())\n",
    "y_train.head()"
   ]
  },
  {
   "cell_type": "markdown",
   "metadata": {},
   "source": [
    "### Process filename inputs (for both train and test data)"
   ]
  },
  {
   "cell_type": "code",
   "execution_count": 17,
   "metadata": {},
   "outputs": [],
   "source": [
    "# define clearing regex\n",
    "import re\n",
    "REGEX_LAST_NUM = re.compile('([-|_]\\d+\\.)')\n",
    "REGEX_FIRST_EXCLAMATION = re.compile('(^\\d+!\\d+[_|-]+)')\n",
    "REGEX_OTHER_EXCLAMATION = re.compile('([_|-]+\\d+!\\d+[_|-]+)')\n",
    "REGEX_STAT = re.compile(r'(?<!STAT)_', re.I)"
   ]
  },
  {
   "cell_type": "code",
   "execution_count": 18,
   "metadata": {},
   "outputs": [],
   "source": [
    "#split filename into independent chunks\n",
    "def file_path_formatter(string):\n",
    "        # remove last number before extension\n",
    "        # 6506!12-n-4 ah stat_cpi-117029.las -> 6506!12-n-4 ah stat_cpi.las\n",
    "        string = REGEX_LAST_NUM.sub('.', string)\n",
    "\n",
    "        # remove first number containing exclamation mark\n",
    "        # 6506!12-n-4 ah stat_cpi.las -> n-4 ah stat_cpi.las\n",
    "        string = REGEX_FIRST_EXCLAMATION.sub('', string)\n",
    "\n",
    "        # remove other number containing exclamation mark\n",
    "        # n-4 ah stat_cpi.las -> n 4 ah stat_cpi las\n",
    "        string = REGEX_OTHER_EXCLAMATION.sub(' ', string)\n",
    "\n",
    "        string = string.replace('-', ' ').replace('.', ' ').replace(',', ' ').replace('/', ' ').replace('_',' ')\n",
    "        return string\n",
    "\n",
    "#X_train['filename'] = X_train['filename'].apply(file_path_formatter)\n",
    "#X_test['filename'] = X_test['filename'].apply(file_path_formatter)\n"
   ]
  },
  {
   "cell_type": "markdown",
   "metadata": {},
   "source": [
    "### Extract features using CountVectorizer"
   ]
  },
  {
   "cell_type": "code",
   "execution_count": 19,
   "metadata": {},
   "outputs": [],
   "source": [
    "from sklearn.feature_extraction.text import CountVectorizer\n",
    "from sklearn.pipeline import Pipeline\n",
    "from sklearn.feature_extraction.text import TfidfTransformer\n",
    "\n",
    "feat_t = Pipeline([\n",
    "    ('ft',CountVectorizer(ngram_range=(1, 3), \n",
    "                                    lowercase=True,\n",
    "                                    preprocessor=file_path_formatter,\n",
    "                                    min_df=int(2),\n",
    "                                    analyzer='word')),\n",
    "    ('tfid',TfidfTransformer())])\n",
    "count_vectorizer = feat_t"
   ]
  },
  {
   "cell_type": "code",
   "execution_count": 20,
   "metadata": {},
   "outputs": [],
   "source": [
    "# creates the document term matrix\n",
    "count_train = count_vectorizer.fit_transform(X_train['filename'])\n",
    "count_test = count_vectorizer.transform(X_test['filename'])"
   ]
  },
  {
   "cell_type": "markdown",
   "metadata": {},
   "source": [
    "### Define ML model that currently is RandomForest as it performs the best"
   ]
  },
  {
   "cell_type": "code",
   "execution_count": 21,
   "metadata": {},
   "outputs": [],
   "source": [
    "from sklearn.ensemble import RandomForestClassifier\n",
    "from sklearn.multioutput import MultiOutputRegressor\n",
    "# Parameters for the model\n",
    "max_depth=None\n",
    "n_estimators=82\n",
    "min_samples_split=10\n",
    "max_features='sqrt'\n",
    "rf_classifier = RandomForestClassifier(max_depth=None, \n",
    "                                       n_jobs=-1,\n",
    "                                       n_estimators=n_estimators,\n",
    "                                       min_samples_split=min_samples_split,\n",
    "                                       max_features=max_features)\n",
    "mor = MultiOutputRegressor(rf_classifier)"
   ]
  },
  {
   "cell_type": "markdown",
   "metadata": {},
   "source": [
    "# Train ...."
   ]
  },
  {
   "cell_type": "code",
   "execution_count": 22,
   "metadata": {},
   "outputs": [
    {
     "name": "stdout",
     "output_type": "stream",
     "text": [
      "(11832, 13135)\n"
     ]
    },
    {
     "data": {
      "text/plain": [
       "MultiOutputRegressor(estimator=RandomForestClassifier(bootstrap=True, class_weight=None, criterion='gini',\n",
       "            max_depth=None, max_features='sqrt', max_leaf_nodes=None,\n",
       "            min_impurity_decrease=0.0, min_impurity_split=None,\n",
       "            min_samples_leaf=1, min_samples_split=10,\n",
       "            min_weight_fraction_leaf=0.0, n_estimators=82, n_jobs=-1,\n",
       "            oob_score=False, random_state=None, verbose=0,\n",
       "            warm_start=False),\n",
       "           n_jobs=None)"
      ]
     },
     "execution_count": 22,
     "metadata": {},
     "output_type": "execute_result"
    }
   ],
   "source": [
    "print(count_train.shape)\n",
    "mor.fit(count_train, y_train)"
   ]
  },
  {
   "cell_type": "markdown",
   "metadata": {},
   "source": [
    "# Predict on test data"
   ]
  },
  {
   "cell_type": "code",
   "execution_count": 23,
   "metadata": {},
   "outputs": [],
   "source": [
    "pred = mor.predict(count_test)"
   ]
  },
  {
   "cell_type": "code",
   "execution_count": 24,
   "metadata": {
    "scrolled": true
   },
   "outputs": [
    {
     "data": {
      "text/plain": [
       "array([['GEOSERVICES', 'RAW', 'AUTOMATIC'],\n",
       "       ['BAKER HUGHES', 'RAW', 'AUTOMATIC'],\n",
       "       ['BAKER HUGHES', 'RAW', 'AUTOMATIC'],\n",
       "       ...,\n",
       "       ['BAKER HUGHES', 'RAW', 'AUTOMATIC'],\n",
       "       ['SCHLUMBERGER', 'RAW', 'AUTOMATIC'],\n",
       "       ['SCHLUMBERGER', 'RAW', 'AUTOMATIC']], dtype=object)"
      ]
     },
     "execution_count": 24,
     "metadata": {},
     "output_type": "execute_result"
    }
   ],
   "source": [
    "from sklearn.metrics import accuracy_score\n",
    "# print('Test accuracy is {}'.format(accuracy_score(y_test, pred)))\n",
    "pred"
   ]
  },
  {
   "cell_type": "code",
   "execution_count": 25,
   "metadata": {},
   "outputs": [],
   "source": [
    "# y_test.value_counts()"
   ]
  },
  {
   "cell_type": "markdown",
   "metadata": {},
   "source": [
    "# Show some results"
   ]
  },
  {
   "cell_type": "code",
   "execution_count": 26,
   "metadata": {},
   "outputs": [],
   "source": [
    "test_set = pd.DataFrame(data={'filename':[\n",
    "    '/project/recall/prod/arc/norway_a/tapes/GRANE/NO_25_11_G_31/WLC_RAW_BHPR-GR-MECH-REMP_MWD_1-69463.DLIS',\n",
    "    '/project/recall/prod/arc/norway_a/tapes/GRANE/NO_25_11_G_25_AY2/WLC_COMPOSITE_1-52573.DLIS',\n",
    "    '/project/recall/prod/arc/norway_a/tapes/GRANE/NO_25_11_G_22_BY1T2/WLC_PETROPHYSICAL_COMPOSITE_1-66518.DLIS',\n",
    "    'WLC_RAW_BHPR-GR-MECH-REMP_MWD_1-69463.DLIS',\n",
    "    'WLC_COMPOSITE_1-52573.DLIS',\n",
    "    'WLC_PETROPHYSICAL_COMPOSITE_1-66518.DLIS',\n",
    "            ]})"
   ]
  },
  {
   "cell_type": "code",
   "execution_count": 27,
   "metadata": {},
   "outputs": [
    {
     "name": "stdout",
     "output_type": "stream",
     "text": [
      "[['BAKER HUGHES' 'INTERPRETED' 'COMPOSITE']\n",
      " ['LOGTEK' 'INTERPRETED' 'COMPOSITE']\n",
      " ['LOGTEK' 'INTERPRETED' 'PETROPHYSICAL_COMPOSITE']\n",
      " ['SCHLUMBERGER' 'RAW' 'AUTOMATIC']\n",
      " ['SCHLUMBERGER' 'INTERPRETED' 'COMPOSITE']\n",
      " ['LOGTEK' 'INTERPRETED' 'PETROPHYSICAL_COMPOSITE']]\n"
     ]
    }
   ],
   "source": [
    "#test_set['filename'] = test_set['filename'].apply(file_path_formatter)\n",
    "test_set = count_vectorizer.transform(test_set['filename'])\n",
    "test_pred = mor.predict(test_set)\n",
    "print(test_pred)"
   ]
  },
  {
   "cell_type": "code",
   "execution_count": 29,
   "metadata": {},
   "outputs": [
    {
     "ename": "AttributeError",
     "evalue": "'RandomForestClassifier' object has no attribute 'estimators_'",
     "output_type": "error",
     "traceback": [
      "\u001b[0;31m---------------------------------------------------------------------------\u001b[0m",
      "\u001b[0;31mAttributeError\u001b[0m                            Traceback (most recent call last)",
      "\u001b[0;32m<ipython-input-29-bc032266fd03>\u001b[0m in \u001b[0;36m<module>\u001b[0;34m()\u001b[0m\n\u001b[0;32m----> 1\u001b[0;31m \u001b[0mmor\u001b[0m\u001b[0;34m.\u001b[0m\u001b[0mestimator\u001b[0m\u001b[0;34m[\u001b[0m\u001b[0;34m-\u001b[0m\u001b[0;36m1\u001b[0m\u001b[0;34m]\u001b[0m\u001b[0;34m[\u001b[0m\u001b[0;34m-\u001b[0m\u001b[0;36m1\u001b[0m\u001b[0;34m]\u001b[0m\u001b[0;34m.\u001b[0m\u001b[0mclasses\u001b[0m\u001b[0;34m\u001b[0m\u001b[0m\n\u001b[0m",
      "\u001b[0;32m/data/env/py35/lib/python3.5/site-packages/sklearn/ensemble/base.py\u001b[0m in \u001b[0;36m__getitem__\u001b[0;34m(self, index)\u001b[0m\n\u001b[1;32m    142\u001b[0m     \u001b[0;32mdef\u001b[0m \u001b[0m__getitem__\u001b[0m\u001b[0;34m(\u001b[0m\u001b[0mself\u001b[0m\u001b[0;34m,\u001b[0m \u001b[0mindex\u001b[0m\u001b[0;34m)\u001b[0m\u001b[0;34m:\u001b[0m\u001b[0;34m\u001b[0m\u001b[0m\n\u001b[1;32m    143\u001b[0m         \u001b[0;34m\"\"\"Returns the index'th estimator in the ensemble.\"\"\"\u001b[0m\u001b[0;34m\u001b[0m\u001b[0m\n\u001b[0;32m--> 144\u001b[0;31m         \u001b[0;32mreturn\u001b[0m \u001b[0mself\u001b[0m\u001b[0;34m.\u001b[0m\u001b[0mestimators_\u001b[0m\u001b[0;34m[\u001b[0m\u001b[0mindex\u001b[0m\u001b[0;34m]\u001b[0m\u001b[0;34m\u001b[0m\u001b[0m\n\u001b[0m\u001b[1;32m    145\u001b[0m \u001b[0;34m\u001b[0m\u001b[0m\n\u001b[1;32m    146\u001b[0m     \u001b[0;32mdef\u001b[0m \u001b[0m__iter__\u001b[0m\u001b[0;34m(\u001b[0m\u001b[0mself\u001b[0m\u001b[0;34m)\u001b[0m\u001b[0;34m:\u001b[0m\u001b[0;34m\u001b[0m\u001b[0m\n",
      "\u001b[0;31mAttributeError\u001b[0m: 'RandomForestClassifier' object has no attribute 'estimators_'"
     ]
    }
   ],
   "source": [
    "mor.estimator[-1][-1].classes"
   ]
  },
  {
   "cell_type": "code",
   "execution_count": 30,
   "metadata": {},
   "outputs": [
    {
     "name": "stdout",
     "output_type": "stream",
     "text": [
      "11066    Gullfaks_Sor_NO_34_10-M-4_BY1HT3_GRL-70730.pdf\n",
      "2111           WL_STATOIL_ALL_RAW_DATA_MWD_1-98927.DLIS\n",
      "14510          WL_STATOIL_ALL_RAW_DATA_MWD_2-70969.DLIS\n",
      "Name: filename, dtype: object\n"
     ]
    }
   ],
   "source": [
    " pd.options.display.max_colwidth = 300\n",
    "print(test['filename'][:3])"
   ]
  },
  {
   "cell_type": "code",
   "execution_count": 31,
   "metadata": {},
   "outputs": [
    {
     "name": "stdout",
     "output_type": "stream",
     "text": [
      "[['GEOSERVICES' 'RAW' 'AUTOMATIC']\n",
      " ['BAKER HUGHES' 'RAW' 'AUTOMATIC']\n",
      " ['BAKER HUGHES' 'RAW' 'AUTOMATIC']]\n"
     ]
    }
   ],
   "source": [
    "print(pred[:3])"
   ]
  },
  {
   "cell_type": "code",
   "execution_count": 32,
   "metadata": {},
   "outputs": [
    {
     "name": "stdout",
     "output_type": "stream",
     "text": [
      "11066    RAW\n",
      "2111     RAW\n",
      "14510    RAW\n",
      "Name: data_type, dtype: object\n"
     ]
    }
   ],
   "source": [
    "print(test['data_type'][:3])"
   ]
  },
  {
   "cell_type": "code",
   "execution_count": null,
   "metadata": {},
   "outputs": [],
   "source": []
  }
 ],
 "metadata": {
  "kernelspec": {
   "display_name": "Python 3",
   "language": "python",
   "name": "python3"
  },
  "language_info": {
   "codemirror_mode": {
    "name": "ipython",
    "version": 3
   },
   "file_extension": ".py",
   "mimetype": "text/x-python",
   "name": "python",
   "nbconvert_exporter": "python",
   "pygments_lexer": "ipython3",
   "version": "3.5.6"
  }
 },
 "nbformat": 4,
 "nbformat_minor": 2
}
