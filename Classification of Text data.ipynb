{
 "cells": [
  {
   "cell_type": "markdown",
   "metadata": {},
   "source": [
    "### Spam data"
   ]
  },
  {
   "cell_type": "code",
   "execution_count": 2,
   "metadata": {},
   "outputs": [],
   "source": [
    "import numpy as np\n",
    "import pandas as pd\n",
    "import glob"
   ]
  },
  {
   "cell_type": "code",
   "execution_count": 3,
   "metadata": {},
   "outputs": [],
   "source": [
    "path = r'data/text'\n",
    "allFiles = glob.glob(path+'/*.csv')"
   ]
  },
  {
   "cell_type": "markdown",
   "metadata": {},
   "source": [
    "### Get files and append them into DataFrame"
   ]
  },
  {
   "cell_type": "code",
   "execution_count": 6,
   "metadata": {},
   "outputs": [
    {
     "name": "stdout",
     "output_type": "stream",
     "text": [
      "                              COMMENT_ID                              AUTHOR  \\\n",
      "0    z13lgffb5w3ddx1ul22qy1wxspy5cpkz504                          dharma pal   \n",
      "1      z123dbgb0mqjfxbtz22ucjc5jvzcv3ykj                       Tiza Arellano   \n",
      "2  z12quxxp2vutflkxv04cihggzt2azl34pms0k  Prìñçeśś Âliś Łøvê Dømíñø Mâđiś™ ﻿   \n",
      "3      z12icv3ysqvlwth2c23eddlykyqut5z1h                       Eric Gonzalez   \n",
      "4      z133stly3kete3tly22petvwdpmghrlli                       Analena López   \n",
      "\n",
      "                         DATE  \\\n",
      "0  2015-05-29T02:30:18.971000   \n",
      "1  2015-05-29T00:14:48.748000   \n",
      "2  2015-05-28T21:00:08.607000   \n",
      "3  2015-05-28T20:47:12.193000   \n",
      "4  2015-05-28T17:08:29.827000   \n",
      "\n",
      "                                             CONTENT  CLASS  \n",
      "0                                         Nice song﻿      0  \n",
      "1                                      I love song ﻿      0  \n",
      "2                                      I love song ﻿      0  \n",
      "3  860,000,000 lets make it first female to reach...      0  \n",
      "4                      shakira is best for worldcup﻿      0  \n",
      "(1956, 2)\n",
      "                                             CONTENT  CLASS\n",
      "0  Huh, anyway check out this you[tube] channel: ...      1\n",
      "1  Hey guys check out my new channel and our firs...      1\n",
      "2             just for test I have to say murdev.com      1\n",
      "3   me shaking my sexy ass on my channel enjoy ^_^ ﻿      1\n",
      "4            watch?v=vtaRGgvGtWQ   Check this out .﻿      1\n"
     ]
    }
   ],
   "source": [
    "frame = pd.DataFrame()\n",
    "list_ = []\n",
    "for file_ in allFiles:\n",
    "    df = pd.read_csv(file_,index_col = None, header=0)\n",
    "    list_.append(df)\n",
    "frame = pd.concat(list_)\n",
    "print(df.head())\n",
    "df = frame.iloc[:,3:5]\n",
    "print(df.head())"
   ]
  },
  {
   "cell_type": "markdown",
   "metadata": {},
   "source": [
    "### Split data to training and testing!"
   ]
  },
  {
   "cell_type": "code",
   "execution_count": 24,
   "metadata": {},
   "outputs": [],
   "source": [
    "from sklearn.model_selection import train_test_split\n",
    "from sklearn import metrics\n",
    "from sklearn.naive_bayes import MultinomialNB\n",
    "from sklearn.feature_extraction.text import CountVectorizer\n",
    "\n",
    "x = df['CONTENT']\n",
    "\n",
    "y = df['CLASS']\n",
    "\n",
    "x_train, x_test, y_train, y_test = train_test_split(x, y, test_size=0.30, random_state=53)"
   ]
  },
  {
   "cell_type": "code",
   "execution_count": 25,
   "metadata": {},
   "outputs": [
    {
     "name": "stdout",
     "output_type": "stream",
     "text": [
      "train size=(1369,) test size=(587,) full data size=(1956,)\n"
     ]
    }
   ],
   "source": [
    "print('train size={} test size={} full data size={}'.format(x_train.shape, y_test.shape, x.shape))"
   ]
  },
  {
   "cell_type": "markdown",
   "metadata": {},
   "source": [
    "### Generate features from training and testing data"
   ]
  },
  {
   "cell_type": "code",
   "execution_count": 31,
   "metadata": {},
   "outputs": [],
   "source": [
    "# - create features using countvectorizer\n",
    "count_vectorizer = CountVectorizer(stop_words='english')\n",
    "\n",
    "# creates the document term matrix\n",
    "count_train = count_vectorizer.fit_transform(x_train.values)\n",
    "\n",
    "count_test = count_vectorizer.transform(x_test.values)"
   ]
  },
  {
   "cell_type": "markdown",
   "metadata": {},
   "source": [
    "### Train the ML model for a given sensitivity value for naive bayesian classifier"
   ]
  },
  {
   "cell_type": "code",
   "execution_count": 33,
   "metadata": {},
   "outputs": [],
   "source": [
    "# create Naive Bayes classifier with smoothing parameter\n",
    "nb_classifier = MultinomialNB(alpha=0.1)\n",
    "\n",
    "#fit the classifier to training data\n",
    "nb_classifier.fit(count_train, y_train)\n",
    "\n",
    "pred = nb_classifier.predict(count_test)\n",
    "score = metrics.accuracy_score(y_test, pred)"
   ]
  },
  {
   "cell_type": "markdown",
   "metadata": {},
   "source": [
    "### show some predictions"
   ]
  },
  {
   "cell_type": "code",
   "execution_count": 34,
   "metadata": {},
   "outputs": [
    {
     "data": {
      "text/plain": [
       "46     now its 1,884,034,783 views! pls. comment the ...\n",
       "272                            like this comment please﻿\n",
       "197              This video deserves <b>1B</b> views!!!﻿\n",
       "262    THIS HAS MORE VIEWS THAN QUEEN AND MICHAEL JAC...\n",
       "340                  Check out this video on YouTube:Qq﻿\n",
       "Name: CONTENT, dtype: object"
      ]
     },
     "execution_count": 34,
     "metadata": {},
     "output_type": "execute_result"
    }
   ],
   "source": [
    "x_test.iloc[:5]"
   ]
  },
  {
   "cell_type": "markdown",
   "metadata": {},
   "source": [
    "### train and show the score"
   ]
  },
  {
   "cell_type": "code",
   "execution_count": 29,
   "metadata": {},
   "outputs": [
    {
     "name": "stdout",
     "output_type": "stream",
     "text": [
      "Score:  0.9148211243611585 \n",
      "\n"
     ]
    }
   ],
   "source": [
    "print('Score: ', train_and_predict(0.1),'\\n')"
   ]
  },
  {
   "cell_type": "code",
   "execution_count": 30,
   "metadata": {},
   "outputs": [
    {
     "ename": "NameError",
     "evalue": "name 'count_vectorizer' is not defined",
     "output_type": "error",
     "traceback": [
      "\u001b[1;31m---------------------------------------------------------------------------\u001b[0m",
      "\u001b[1;31mNameError\u001b[0m                                 Traceback (most recent call last)",
      "\u001b[1;32m<ipython-input-30-a5f18746e942>\u001b[0m in \u001b[0;36m<module>\u001b[1;34m\u001b[0m\n\u001b[1;32m----> 1\u001b[1;33m \u001b[0m_test\u001b[0m \u001b[1;33m=\u001b[0m \u001b[0mcount_vectorizer\u001b[0m\u001b[1;33m.\u001b[0m\u001b[0mtransform\u001b[0m\u001b[1;33m(\u001b[0m\u001b[1;34m'Buy this product'\u001b[0m\u001b[1;33m)\u001b[0m\u001b[1;33m\u001b[0m\u001b[1;33m\u001b[0m\u001b[0m\n\u001b[0m",
      "\u001b[1;31mNameError\u001b[0m: name 'count_vectorizer' is not defined"
     ]
    }
   ],
   "source": [
    "_test = count_vectorizer.transform('Buy this product')"
   ]
  },
  {
   "cell_type": "code",
   "execution_count": null,
   "metadata": {},
   "outputs": [],
   "source": [
    "import numpy as np\n",
    "import pandas as pd\n",
    "import glob\n",
    "\n",
    "path = r'data'\n",
    "allFiles = glob.glob(path+'/*.csv')\n",
    "frame = pd.DataFrame()\n",
    "list_ = []\n",
    "for file_ in allFiles:\n",
    "    df = pd.read_csv(file_,index_col = None, header=0)\n",
    "    list_.append(df)\n",
    "frame = pd.concat(list_)\n",
    "\n",
    "df = frame.iloc[:,3:5]\n",
    "\n",
    "\n",
    "print(df.head())\n",
    "\n",
    "\n",
    "from sklearn.model_selection import train_test_split\n",
    "\n",
    "\n",
    "x = df['CONTENT']\n",
    "\n",
    "y = df['CLASS']\n",
    "\n",
    "x_train, x_test, y_train, y_test = train_test_split(x, y, test_size=0.30, random_state=53)\n",
    "\n",
    "print(x_train.shape, x_test.shape, y_train.shape, y_test.shape)\n",
    "from sklearn.feature_extraction.text import CountVectorizer\n",
    "\n",
    "def get_features_count():\n",
    "    # - create features using countvectorizer\n",
    "    count_vectorizer = CountVectorizer(stop_words='english')\n",
    "\n",
    "    # creates the document term matrix\n",
    "    count_train = count_vectorizer.fit_transform(x_train.values)\n",
    "\n",
    "    count_test = count_vectorizer.transform(x_test.values)\n",
    "    return count_train, count_test\n",
    "\n",
    "\n",
    "\n",
    "from sklearn.feature_extraction.text import TfidfVectorizer\n",
    "def get_features_tfidf():\n",
    "    #remove terms that appear more than 70%\n",
    "    tfidf_vectorizer = TfidfVectorizer(stop_words='english', max_df=0.7)\n",
    "    # creates the document term matrix\n",
    "    count_train = tfidf_vectorizer.fit_transform(x_train.values)\n",
    "\n",
    "    count_test = tfidf_vectorizer.transform(x_test.values)\n",
    "    return count_train, count_test\n",
    "\n",
    "# count_train, count_test = get_features_count()\n",
    "count_train, count_test = get_features_tfidf()\n",
    "\n",
    "from sklearn import metrics\n",
    "from sklearn.naive_bayes import MultinomialNB\n",
    "\n",
    "alphas = np.arange(0, 1, 0.1)\n",
    "def train_and_predict(alpha):\n",
    "    # create Naive Bayes classifier with smoothing parameter\n",
    "    nb_classifier = MultinomialNB(alpha=alpha)\n",
    "\n",
    "    #fit the classifier to training data\n",
    "    nb_classifier.fit(count_train, y_train)\n",
    "\n",
    "    pred = nb_classifier.predict(count_test)\n",
    "    score = metrics.accuracy_score(y_test, pred)\n",
    "    return score\n",
    "\n",
    "for alpha in alphas:\n",
    "    print('Alpha: ', alpha)\n",
    "    print('Score: ', train_and_predict(alpha),'\\n')\n",
    "\n",
    "#confusion matrix\n",
    "# cm = metrics.confusion_matrix(y_test, pred, labels=[1, 0])\n",
    "# print('CONFUSION MATRIX\\n',cm)"
   ]
  }
 ],
 "metadata": {
  "kernelspec": {
   "display_name": "Python 3",
   "language": "python",
   "name": "python3"
  },
  "language_info": {
   "codemirror_mode": {
    "name": "ipython",
    "version": 3
   },
   "file_extension": ".py",
   "mimetype": "text/x-python",
   "name": "python",
   "nbconvert_exporter": "python",
   "pygments_lexer": "ipython3",
   "version": "3.6.8"
  }
 },
 "nbformat": 4,
 "nbformat_minor": 2
}
